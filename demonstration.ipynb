{
 "cells": [
  {
   "cell_type": "code",
   "execution_count": null,
   "metadata": {
    "collapsed": true
   },
   "outputs": [],
   "source": [
    "! source activate tf"
   ]
  },
  {
   "cell_type": "markdown",
   "source": [
    "# 训练SEResNet"
   ],
   "metadata": {
    "collapsed": false,
    "pycharm": {
     "name": "#%% md\n"
    }
   }
  },
  {
   "cell_type": "code",
   "execution_count": null,
   "outputs": [],
   "source": [
    "! python train.py -m SEResNet50 -p / root / work / CAPTCHA_full / model_data / KerasResNet50 / checkpoints / KerasResNet50.h5"
   ],
   "metadata": {
    "collapsed": false,
    "pycharm": {
     "name": "#%%\n"
    }
   }
  },
  {
   "cell_type": "code",
   "execution_count": null,
   "outputs": [],
   "source": [
    "! python train.py -m SEResNet50 -p / root /.keras / models / resnet50_weights_tf_dim_ordering_tf_kernels_notop.h5"
   ],
   "metadata": {
    "collapsed": false,
    "pycharm": {
     "name": "#%%\n"
    }
   }
  },
  {
   "cell_type": "markdown",
   "source": [
    "# 微调SE模块"
   ],
   "metadata": {
    "collapsed": false,
    "pycharm": {
     "name": "#%% md\n"
    }
   }
  },
  {
   "cell_type": "code",
   "execution_count": null,
   "outputs": [],
   "source": [
    "! python fineTuningSE.py -m SEResNet50 -p / root / work / CAPTCHA_full / model_data / KerasResNet50 / checkpoints / KerasResNet50.h5"
   ],
   "metadata": {
    "collapsed": false,
    "pycharm": {
     "name": "#%%\n"
    }
   }
  },
  {
   "cell_type": "markdown",
   "source": [
    "# 融合模型"
   ],
   "metadata": {
    "collapsed": false,
    "pycharm": {
     "name": "#%% md\n"
    }
   }
  },
  {
   "cell_type": "code",
   "execution_count": null,
   "outputs": [],
   "source": [
    "!python mergeTuning.py"
   ],
   "metadata": {
    "collapsed": false,
    "pycharm": {
     "name": "#%%\n"
    }
   }
  },
  {
   "cell_type": "markdown",
   "source": [
    "# 预测"
   ],
   "metadata": {
    "collapsed": false,
    "pycharm": {
     "name": "#%% md\n"
    }
   }
  },
  {
   "cell_type": "code",
   "execution_count": 3,
   "outputs": [
    {
     "name": "stderr",
     "output_type": "stream",
     "text": [
      "Using TensorFlow backend.\n"
     ]
    }
   ],
   "source": [
    "import numpy as np\n",
    "import config\n",
    "from cv2 import resize, imread\n",
    "from keras import Model\n",
    "from keras.models import load_model\n",
    "import csv\n",
    "\n",
    "from util.imageProcess import imgProcessNorm\n",
    "from util.modelUtils import word_acc\n",
    "from util import labelProcess\n",
    "from matplotlib import pyplot as plt"
   ],
   "metadata": {
    "collapsed": false,
    "pycharm": {
     "name": "#%%\n"
    }
   }
  },
  {
   "cell_type": "code",
   "execution_count": 9,
   "outputs": [],
   "source": [
    "# 加载模型\n",
    "model_path = r\"F:\\model_data\\VGG\\checkpoints\\VGG.h5\"\n",
    "model: Model = load_model(model_path, custom_objects={\"word_acc\": word_acc})\n",
    "\n",
    "# 加载数据集\n",
    "filename = 'F:/data_set/captcha/test/test_label.csv'\n",
    "results = csv.DictReader(open(filename))\n",
    "labels = {}\n",
    "for result in results:\n",
    "    # print(result['label'])\n",
    "    labels[result['ID']] = result['label']"
   ],
   "metadata": {
    "collapsed": false,
    "pycharm": {
     "name": "#%%\n"
    }
   }
  },
  {
   "cell_type": "code",
   "execution_count": 15,
   "outputs": [
    {
     "data": {
      "text/plain": "<Figure size 432x288 with 1 Axes>",
      "image/png": "[encoded data removed]"
     },
     "metadata": {},
     "output_type": "display_data"
    },
    {
     "name": "stdout",
     "output_type": "stream",
     "text": [
      "预测结果：['RyYT']\n",
      "真实结果：RyVT\n"
     ]
    }
   ],
   "source": [
    "# 预测\n",
    "pic_name = '82.jpg'\n",
    "pics_path1 = 'F:/data_set/captcha/test/' + pic_name\n",
    "x1 = imread(filename=pics_path1)\n",
    "plt.imshow(x1)\n",
    "plt.show()\n",
    "x1 = imgProcessNorm(img=x1, shape=config.Model.img_shape)\n",
    "\n",
    "x1 = x1[np.newaxis, ::]\n",
    "\n",
    "predict = model.predict(x1)\n",
    "pred = labelProcess.decode_predict(predict)\n",
    "print('预测结果：' + str(pred))\n",
    "print('真实结果：' + labels[pic_name])"
   ],
   "metadata": {
    "collapsed": false,
    "pycharm": {
     "name": "#%%\n"
    }
   }
  },
  {
   "cell_type": "code",
   "execution_count": null,
   "outputs": [],
   "source": [],
   "metadata": {
    "collapsed": false,
    "pycharm": {
     "name": "#%%\n"
    }
   }
  }
 ],
 "metadata": {
  "kernelspec": {
   "display_name": "Python 3",
   "language": "python",
   "name": "python3"
  },
  "language_info": {
   "codemirror_mode": {
    "name": "ipython",
    "version": 2
   },
   "file_extension": ".py",
   "mimetype": "text/x-python",
   "name": "python",
   "nbconvert_exporter": "python",
   "pygments_lexer": "ipython2",
   "version": "2.7.6"
  }
 },
 "nbformat": 4,
 "nbformat_minor": 0
}